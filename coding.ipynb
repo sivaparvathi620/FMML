{
  "nbformat": 4,
  "nbformat_minor": 0,
  "metadata": {
    "colab": {
      "provenance": [],
      "authorship_tag": "ABX9TyOpyBYWExTZ5fVnAqlDRcfP",
      "include_colab_link": true
    },
    "kernelspec": {
      "name": "python3",
      "display_name": "Python 3"
    },
    "language_info": {
      "name": "python"
    }
  },
  "cells": [
    {
      "cell_type": "markdown",
      "metadata": {
        "id": "view-in-github",
        "colab_type": "text"
      },
      "source": [
        "<a href=\"https://colab.research.google.com/github/sivaparvathi620/FMML/blob/main/coding.ipynb\" target=\"_parent\"><img src=\"https://colab.research.google.com/assets/colab-badge.svg\" alt=\"Open In Colab\"/></a>"
      ]
    },
    {
      "cell_type": "code",
      "execution_count": null,
      "metadata": {
        "id": "uzr_Ws_ZMp84"
      },
      "outputs": [],
      "source": [
        "a=\"python\"\n",
        "count=0\n",
        "for i in a:\n",
        "  if i==\"p\":\n",
        "     count+=1\n",
        "print(count)\n"
      ]
    },
    {
      "cell_type": "code",
      "source": [
        "a=\"shivuu\"\n",
        "for i in a:\n",
        "  if i==\"u\":\n",
        "    print(i)"
      ],
      "metadata": {
        "id": "SKDIUd0fM0mS"
      },
      "execution_count": null,
      "outputs": []
    },
    {
      "cell_type": "code",
      "source": [
        "n=int(input())\n",
        "if(n>=41 and n<=45):\n",
        "  print(\"A\")\n",
        "elif(n>=36 and n<=40):\n",
        "  print(\"B\")\n",
        "elif(n>=31 and n<=35):\n",
        "  print(\"C\")\n",
        "elif (n>=0 and n<=30):\n",
        "  print(\"D\")\n",
        "else:\n",
        "  print(\"invalid syntax\")"
      ],
      "metadata": {
        "id": "AY9TZnXjNHVD"
      },
      "execution_count": null,
      "outputs": []
    },
    {
      "cell_type": "code",
      "source": [
        "a=list(map(int,input().split()))\n",
        "for i in a:\n",
        "  print(i,end=\" \")"
      ],
      "metadata": {
        "id": "4sG4NB6lNg_t"
      },
      "execution_count": null,
      "outputs": []
    },
    {
      "cell_type": "code",
      "source": [
        "n1=int(input())\n",
        "for i in range (0,n+1):\n",
        " print(i)"
      ],
      "metadata": {
        "id": "ETQVheSXN9s_"
      },
      "execution_count": null,
      "outputs": []
    },
    {
      "cell_type": "code",
      "source": [
        "n=int(input())\n",
        "sum=0\n",
        "while(n!=0):\n",
        "  digit=n%10\n",
        "sum=sum+digit\n",
        "n=n/10\n",
        "print(sum)\n",
        "\n",
        "\n"
      ],
      "metadata": {
        "colab": {
          "base_uri": "https://localhost:8080/"
        },
        "id": "g68daMPOOr-l",
        "outputId": "a5c9e5ae-b6be-423f-ecb2-ead76dcce29f"
      },
      "execution_count": null,
      "outputs": [
        {
          "name": "stdout",
          "output_type": "stream",
          "text": [
            "1425\n"
          ]
        }
      ]
    },
    {
      "cell_type": "code",
      "source": [
        " n1=int(input())\n",
        "n2=int(input())\n",
        "n3=int(input())\n",
        "if(n1>n2 and n1>n3):\n",
        "  print(n1)\n",
        "elif:\n",
        "  (n2>n1 and n2>n3):\n",
        "  print(n2)\n",
        "  elif:\n",
        "    (n3>n1 and n3>n2):\n",
        "    print(n3)\n",
        "  else:\n",
        "    print(equal)"
      ],
      "metadata": {
        "id": "KArHLqP4PO8M"
      },
      "execution_count": null,
      "outputs": []
    },
    {
      "cell_type": "code",
      "source": [
        "n=int(input())\n",
        "temp=n\n",
        "sum=0\n",
        "while(n>0):\n",
        "  rem=n%10\n",
        "  sum=sum+rem\n",
        "  n=n//10\n",
        "if temp%sum==0:\n",
        "    print(\"harshad\")\n",
        "else:\n",
        "    print(\"not harshad\")\n"
      ],
      "metadata": {
        "id": "kvoEKZnHRUlk",
        "outputId": "cf4d8b3c-8de8-4c73-f9f0-a54185bbd9a8",
        "colab": {
          "base_uri": "https://localhost:8080/"
        }
      },
      "execution_count": 8,
      "outputs": [
        {
          "output_type": "stream",
          "name": "stdout",
          "text": [
            "11\n",
            "not harshad\n"
          ]
        }
      ]
    },
    {
      "cell_type": "code",
      "source": [],
      "metadata": {
        "id": "BB-7gGuyPBSG"
      },
      "execution_count": null,
      "outputs": []
    }
  ]
}